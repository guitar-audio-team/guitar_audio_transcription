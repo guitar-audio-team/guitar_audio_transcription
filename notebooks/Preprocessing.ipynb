{
 "cells": [
  {
   "cell_type": "code",
   "execution_count": 1,
   "metadata": {},
   "outputs": [],
   "source": [
    "import librosa\n",
    "import numpy as np"
   ]
  },
  {
   "cell_type": "code",
   "execution_count": null,
   "metadata": {},
   "outputs": [],
   "source": [
    "# Chargement de la piste audio\n",
    "filename = 'guitar_track.wav'\n",
    "y, sr = librosa.load(filename)\n",
    "\n",
    "\n",
    "# Calcul de la CQT (transformation constant-Q)\n",
    "cqt = librosa.cqt(y, sr=sr)\n",
    "\n",
    "\n",
    "# Détermination des fréquences pour chaque corde de guitare\n",
    "f_strings = [82.41, 110, 146.83, 196, 246.94, 329.63]\n",
    "\n",
    "\n",
    "# Conversion des fréquences en bins de la CQT\n",
    "string_bins = [np.argmin(np.abs(librosa.cqt_frequencies(cqt.shape[0], sr=sr) - f)) for f in f_strings]\n",
    "\n",
    "# Sélection des sous-bandes pour chaque corde de guitare\n",
    "guitar_strings = [cqt[string_bin-1:string_bin+2, :] for string_bin in string_bins]\n",
    "\n",
    "\n",
    "# Sauvegarde des pistes séparées en utilisant la fonction istft (inverse short-time Fourier transform)\n",
    "for i, string in enumerate(guitar_strings):\n",
    "    separated_string = librosa.istft(string)\n",
    "    librosa.output.write_wav(\"guitar_string_{}.wav\".format(i), separated_string, sr)"
   ]
  }
 ],
 "metadata": {
  "kernelspec": {
   "display_name": "Python 3.8.12 64-bit ('guitar_audio_transcription')",
   "language": "python",
   "name": "python3"
  },
  "language_info": {
   "codemirror_mode": {
    "name": "ipython",
    "version": 3
   },
   "file_extension": ".py",
   "mimetype": "text/x-python",
   "name": "python",
   "nbconvert_exporter": "python",
   "pygments_lexer": "ipython3",
   "version": "3.8.12"
  },
  "orig_nbformat": 4,
  "vscode": {
   "interpreter": {
    "hash": "0dcde9bb001109d48238212744f68b6c9381e73caa07962b8b58e859e93874e8"
   }
  }
 },
 "nbformat": 4,
 "nbformat_minor": 2
}
